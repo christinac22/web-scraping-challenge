{
 "cells": [
  {
   "cell_type": "code",
   "execution_count": 2,
   "id": "acb328ab",
   "metadata": {},
   "outputs": [],
   "source": [
    "# Dependencies\n",
    "from splinter import Browser\n",
    "from bs4 import BeautifulSoup\n",
    "import requests\n",
    "from webdriver_manager.chrome import ChromeDriverManager\n",
    "import pandas as pd"
   ]
  },
  {
   "cell_type": "markdown",
   "id": "bcf62bb3",
   "metadata": {},
   "source": [
    "## NASA Mars News"
   ]
  },
  {
   "cell_type": "code",
   "execution_count": null,
   "id": "6cfd7fa5",
   "metadata": {},
   "outputs": [],
   "source": [
    "# Referenced Day 2 Ins-Splinter\n",
    "# Setup splinter\n",
    "executable_path = {'executable_path': ChromeDriverManager().install()}\n",
    "browser = Browser('chrome', **executable_path, headless=False)"
   ]
  },
  {
   "cell_type": "code",
   "execution_count": null,
   "id": "05010aee",
   "metadata": {},
   "outputs": [],
   "source": [
    "# Visit Nasa news url\n",
    "url = 'https://redplanetscience.com/'\n",
    "browser.visit(url)"
   ]
  },
  {
   "cell_type": "code",
   "execution_count": null,
   "id": "259aecb2",
   "metadata": {},
   "outputs": [],
   "source": [
    "html = browser.html\n",
    "soup = BeautifulSoup(html, 'html.parser')\n",
    "\n",
    "news_title = soup.find_all('div', class_='content_title')\n",
    "news_p = soup.find_all('div', class_='article_teaser_body')\n",
    "\n",
    "# Print out latest news title and paragraph text\n",
    "for title in news_title:\n",
    "        print(f\"Title: \")\n",
    "        print('---------')\n",
    "        print(title.text)\n",
    "        print(f\"Paragraph: \")\n",
    "        print('---------')\n",
    "        for parag in news_p:\n",
    "            print(parag.text)\n"
   ]
  },
  {
   "cell_type": "code",
   "execution_count": null,
   "id": "98b79f8f",
   "metadata": {},
   "outputs": [],
   "source": [
    "# Number of titles\n",
    "len(news_title)"
   ]
  },
  {
   "cell_type": "code",
   "execution_count": null,
   "id": "9452f4b5",
   "metadata": {},
   "outputs": [],
   "source": [
    "browser.quit()"
   ]
  },
  {
   "cell_type": "markdown",
   "id": "8714fdc8",
   "metadata": {},
   "source": [
    "## JPL Mars Space Images - Featured Image"
   ]
  },
  {
   "cell_type": "code",
   "execution_count": 3,
   "id": "b978b850",
   "metadata": {},
   "outputs": [
    {
     "name": "stderr",
     "output_type": "stream",
     "text": [
      "\n",
      "\n",
      "====== WebDriver manager ======\n",
      "Current google-chrome version is 99.0.4844\n",
      "Get LATEST chromedriver version for 99.0.4844 google-chrome\n",
      "Driver [C:\\Users\\Christina Chau\\.wdm\\drivers\\chromedriver\\win32\\99.0.4844.51\\chromedriver.exe] found in cache\n"
     ]
    }
   ],
   "source": [
    "# Setup splinter\n",
    "executable_path = {'executable_path': ChromeDriverManager().install()}\n",
    "browser = Browser('chrome', **executable_path, headless=False)"
   ]
  },
  {
   "cell_type": "code",
   "execution_count": 4,
   "id": "89c5c821",
   "metadata": {},
   "outputs": [],
   "source": [
    "url = 'https://spaceimages-mars.com/'\n",
    "browser.visit(url)"
   ]
  },
  {
   "cell_type": "code",
   "execution_count": 42,
   "id": "c60ea4e7",
   "metadata": {},
   "outputs": [],
   "source": [
    "html = browser.html\n",
    "soup = BeautifulSoup(html, 'html.parser')"
   ]
  },
  {
   "cell_type": "code",
   "execution_count": 55,
   "id": "60d32c5b",
   "metadata": {},
   "outputs": [
    {
     "name": "stdout",
     "output_type": "stream",
     "text": [
      "https://spaceimages-mars.com/image/mars/Icaria Fossae7.jpg\n",
      "https://spaceimages-mars.com/image/mars/Proctor Crater Dunes 7.jpg\n",
      "https://spaceimages-mars.com/image/mars/Icaria Fossae7.jpg\n",
      "https://spaceimages-mars.com/image/mars/Proctor Crater Dunes 7.jpg\n",
      "https://spaceimages-mars.com/image/mars/Proctor Crater Dunes 7.jpg\n",
      "https://spaceimages-mars.com/image/mars/Icaria Fossae7.jpg\n",
      "https://spaceimages-mars.com/image/mars/Icaria Fossae.jpg\n",
      "https://spaceimages-mars.com/image/mars/Ariadnes Colles4.jpg\n",
      "https://spaceimages-mars.com/image/mars/Niger Vallis.jpg\n",
      "https://spaceimages-mars.com/image/mars/Proctor Crater Dunes.jpg\n",
      "https://spaceimages-mars.com/image/mars/Niger Vallis.jpg\n",
      "https://spaceimages-mars.com/image/mars/Daedalia Planum.jpg\n",
      "https://spaceimages-mars.com/image/mars/Sirenum Fossae.jpg\n",
      "https://spaceimages-mars.com/image/mars/Ariadnes Colles4.jpg\n",
      "https://spaceimages-mars.com/image/mars/South Polar Cap.jpg\n",
      "https://spaceimages-mars.com/image/mars/Daedalia Planum.jpg\n",
      "https://spaceimages-mars.com/image/mars/Ariadnes Colles3.jpg\n",
      "https://spaceimages-mars.com/image/mars/Atlantis Chaos.jpg\n",
      "https://spaceimages-mars.com/image/mars/Daedalia Planum.jpg\n",
      "https://spaceimages-mars.com/image/mars/Icaria Fossae.jpg\n",
      "https://spaceimages-mars.com/image/mars/Niger Vallis.jpg\n",
      "https://spaceimages-mars.com/image/mars/Proctor Crater Dunes.jpg\n",
      "https://spaceimages-mars.com/image/mars/Reull Vallis.jpg\n",
      "https://spaceimages-mars.com/image/mars/Ariadnes Colles3.jpg\n",
      "https://spaceimages-mars.com/image/mars/Sirenum Fossae.jpg\n",
      "https://spaceimages-mars.com/image/mars/South Polar Cap.jpg\n",
      "https://spaceimages-mars.com/image/mars/Niger Vallis.jpg\n",
      "https://spaceimages-mars.com/image/mars/Daedalia Planum.jpg\n",
      "https://spaceimages-mars.com/image/mars/Icaria Fossae.jpg\n",
      "https://spaceimages-mars.com/image/mars/Ariadnes Colles4.jpg\n",
      "https://spaceimages-mars.com/image/mars/South Polar Cap.jpg\n",
      "https://spaceimages-mars.com/image/mars/Daedalia Planum.jpg\n"
     ]
    }
   ],
   "source": [
    "# Referenced: https://www.geeksforgeeks.org/image-scraping-with-python/\n",
    "for item in soup.find_all('img', class_='thumbimg'):\n",
    "    print(url + item['src'])"
   ]
  },
  {
   "cell_type": "code",
   "execution_count": null,
   "id": "175c2ddf",
   "metadata": {},
   "outputs": [],
   "source": [
    "browser.quit()"
   ]
  },
  {
   "cell_type": "markdown",
   "id": "bcda36c4",
   "metadata": {},
   "source": [
    "## Mars Facts"
   ]
  },
  {
   "cell_type": "code",
   "execution_count": null,
   "id": "8bf20b09",
   "metadata": {},
   "outputs": [],
   "source": [
    "url = 'https://galaxyfacts-mars.com/'"
   ]
  },
  {
   "cell_type": "code",
   "execution_count": null,
   "id": "3b9025c8",
   "metadata": {},
   "outputs": [],
   "source": [
    "# Use Pandas to scrape tabular data from url\n",
    "tables = pd.read_html(url)"
   ]
  },
  {
   "cell_type": "code",
   "execution_count": null,
   "id": "091a0111",
   "metadata": {},
   "outputs": [],
   "source": [
    "type(tables)"
   ]
  },
  {
   "cell_type": "code",
   "execution_count": null,
   "id": "8154c0f2",
   "metadata": {},
   "outputs": [],
   "source": [
    "tables[0]"
   ]
  },
  {
   "cell_type": "code",
   "execution_count": null,
   "id": "da39afae",
   "metadata": {},
   "outputs": [],
   "source": [
    "#Display df\n",
    "# Referenced: https://stackoverflow.com/questions/61736164/how-can-i-set-second-row-as-a-name-of-columns-in-dataframe\n",
    "mars_diagram_df = tables[0]\n",
    "mars_diagram_df.columns = mars_diagram_df.iloc[0]\n",
    "mars_diagram_df = mars_diagram_df.iloc[1:].reset_index(drop=True)\n",
    "mars_diagram_df.set_index(\"Mars - Earth Comparison\", inplace=True)\n",
    "mars_diagram_df"
   ]
  },
  {
   "cell_type": "code",
   "execution_count": null,
   "id": "4e5163e0",
   "metadata": {},
   "outputs": [],
   "source": [
    "tables[1]"
   ]
  },
  {
   "cell_type": "code",
   "execution_count": null,
   "id": "a2b35848",
   "metadata": {},
   "outputs": [],
   "source": [
    "#Display df\n",
    "mars_planet_profile_df = tables[1]\n",
    "\n",
    "# Rename df/set_index\n",
    "mars_planet_profile_df.columns = [\"Description\" , \"Information\"]\n",
    "mars_planet_profile_df.set_index(\"Description\", inplace=True)\n",
    "\n",
    "mars_planet_profile_df"
   ]
  },
  {
   "cell_type": "code",
   "execution_count": null,
   "id": "2aac5494",
   "metadata": {},
   "outputs": [],
   "source": [
    "# Setup splinter\n",
    "executable_path = {'executable_path': ChromeDriverManager().install()}\n",
    "browser = Browser('chrome', **executable_path, headless=False)"
   ]
  },
  {
   "cell_type": "markdown",
   "id": "f6d0b672",
   "metadata": {},
   "source": [
    "## Mars Hemispheres"
   ]
  },
  {
   "cell_type": "code",
   "execution_count": 57,
   "id": "c20b38b5",
   "metadata": {},
   "outputs": [
    {
     "name": "stderr",
     "output_type": "stream",
     "text": [
      "\n",
      "\n",
      "====== WebDriver manager ======\n",
      "Current google-chrome version is 99.0.4844\n",
      "Get LATEST chromedriver version for 99.0.4844 google-chrome\n",
      "Trying to download new driver from https://chromedriver.storage.googleapis.com/99.0.4844.51/chromedriver_win32.zip\n",
      "Driver has been saved in cache [C:\\Users\\Christina Chau\\.wdm\\drivers\\chromedriver\\win32\\99.0.4844.51]\n"
     ]
    }
   ],
   "source": [
    "# Setup splinter\n",
    "executable_path = {'executable_path': ChromeDriverManager().install()}\n",
    "browser = Browser('chrome', **executable_path, headless=False)"
   ]
  },
  {
   "cell_type": "code",
   "execution_count": 58,
   "id": "db2a895f",
   "metadata": {},
   "outputs": [],
   "source": [
    "url = 'https://marshemispheres.com/'\n",
    "browser.visit(url)"
   ]
  },
  {
   "cell_type": "code",
   "execution_count": 59,
   "id": "8ecd5504",
   "metadata": {},
   "outputs": [],
   "source": [
    "html = browser.html\n",
    "soup = BeautifulSoup(html, 'html.parser')"
   ]
  },
  {
   "cell_type": "code",
   "execution_count": 61,
   "id": "55399166",
   "metadata": {},
   "outputs": [
    {
     "name": "stdout",
     "output_type": "stream",
     "text": [
      "https://marshemispheres.com/images/39d3266553462198bd2fbc4d18fbed17_cerberus_enhanced.tif_thumb.png\n",
      "https://marshemispheres.com/images/08eac6e22c07fb1fe72223a79252de20_schiaparelli_enhanced.tif_thumb.png\n",
      "https://marshemispheres.com/images/55a0a1e2796313fdeafb17c35925e8ac_syrtis_major_enhanced.tif_thumb.png\n",
      "https://marshemispheres.com/images/4e59980c1c57f89c680c0e1ccabbeff1_valles_marineris_enhanced.tif_thumb.png\n"
     ]
    }
   ],
   "source": [
    "for item in soup.find_all('img', class_='thumb'):\n",
    "    print(url + item['src'])"
   ]
  },
  {
   "cell_type": "code",
   "execution_count": null,
   "id": "04410e87",
   "metadata": {},
   "outputs": [],
   "source": [
    "# img_url\n",
    "# title"
   ]
  }
 ],
 "metadata": {
  "kernelspec": {
   "display_name": "Python 3 (ipykernel)",
   "language": "python",
   "name": "python3"
  },
  "language_info": {
   "codemirror_mode": {
    "name": "ipython",
    "version": 3
   },
   "file_extension": ".py",
   "mimetype": "text/x-python",
   "name": "python",
   "nbconvert_exporter": "python",
   "pygments_lexer": "ipython3",
   "version": "3.9.7"
  }
 },
 "nbformat": 4,
 "nbformat_minor": 5
}
